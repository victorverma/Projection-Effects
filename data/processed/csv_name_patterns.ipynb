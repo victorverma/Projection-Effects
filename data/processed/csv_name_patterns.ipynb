{
 "cells": [
  {
   "cell_type": "code",
   "execution_count": 1,
   "id": "0e916aa2",
   "metadata": {},
   "outputs": [],
   "source": [
    "import pandas as pd\n",
    "from pathlib import Path"
   ]
  },
  {
   "cell_type": "markdown",
   "id": "a7bbc806",
   "metadata": {},
   "source": [
    "In this notebook, we determine the patterns matched by the names of the CSVs in\n",
    "`data/raw/swan_sf/partition[1-5]/(FL|NF)/`. The names contain important\n",
    "information like flare classes and active region numbers that needs to be\n",
    "extracted into data frame columns. We begin by pulling the names of all of the\n",
    "CSVs."
   ]
  },
  {
   "cell_type": "code",
   "execution_count": 2,
   "id": "e2fd99a6",
   "metadata": {},
   "outputs": [],
   "source": [
    "ROOT_DIR = \"../raw/swan_sf/\"\n",
    "FL_CSV_PATH_PATTERN = \"partition*/FL/*.csv\"\n",
    "NF_CSV_PATH_PATTERN = \"partition*/NF/*.csv\"\n",
    "fl_file_names = pd.Series(\n",
    "    (p.name for p in Path(ROOT_DIR).glob(FL_CSV_PATH_PATTERN))\n",
    ")\n",
    "nf_file_names = pd.Series(\n",
    "    (p.name for p in Path(ROOT_DIR).glob(NF_CSV_PATH_PATTERN))\n",
    ")"
   ]
  },
  {
   "cell_type": "markdown",
   "id": "39593b9e",
   "metadata": {},
   "source": [
    "Below are the names of some of the `FL` files."
   ]
  },
  {
   "cell_type": "code",
   "execution_count": 3,
   "id": "b0a2112b",
   "metadata": {},
   "outputs": [
    {
     "data": {
      "application/vnd.microsoft.datawrangler.viewer.v0+json": {
       "columns": [
        {
         "name": "index",
         "rawType": "int64",
         "type": "integer"
        },
        {
         "name": "0",
         "rawType": "object",
         "type": "string"
        }
       ],
       "ref": "e52e44af-fc3f-4e1f-942e-6c4cddecf3b7",
       "rows": [
        [
         "0",
         "M6.5@10636:Primary_ar5692_s2015-06-21T18:36:00_e2015-06-22T06:24:00.csv"
        ],
        [
         "1",
         "M5.5@11174:Primary_ar5983_s2015-10-01T00:00:00_e2015-10-01T11:48:00.csv"
        ],
        [
         "2",
         "M1.0@11848:Primary_ar6327_s2016-02-11T11:24:00_e2016-02-11T23:12:00.csv"
        ],
        [
         "3",
         "M1.0@10911:Primary_ar5885_s2015-08-24T05:24:00_e2015-08-24T17:12:00.csv"
        ],
        [
         "4",
         "M1.1@11251:Primary_ar6015_s2015-10-15T06:48:00_e2015-10-15T18:36:00.csv"
        ]
       ],
       "shape": {
        "columns": 1,
        "rows": 5
       }
      },
      "text/plain": [
       "0    M6.5@10636:Primary_ar5692_s2015-06-21T18:36:00...\n",
       "1    M5.5@11174:Primary_ar5983_s2015-10-01T00:00:00...\n",
       "2    M1.0@11848:Primary_ar6327_s2016-02-11T11:24:00...\n",
       "3    M1.0@10911:Primary_ar5885_s2015-08-24T05:24:00...\n",
       "4    M1.1@11251:Primary_ar6015_s2015-10-15T06:48:00...\n",
       "dtype: object"
      ]
     },
     "execution_count": 3,
     "metadata": {},
     "output_type": "execute_result"
    }
   ],
   "source": [
    "fl_file_names.head()"
   ]
  },
  {
   "cell_type": "markdown",
   "id": "1ccb06dd",
   "metadata": {},
   "source": [
    "Below are the names of some of the `NF` files."
   ]
  },
  {
   "cell_type": "code",
   "execution_count": 4,
   "id": "bd97ebcc",
   "metadata": {},
   "outputs": [
    {
     "data": {
      "application/vnd.microsoft.datawrangler.viewer.v0+json": {
       "columns": [
        {
         "name": "index",
         "rawType": "int64",
         "type": "integer"
        },
        {
         "name": "0",
         "rawType": "object",
         "type": "string"
        }
       ],
       "ref": "5ab95cda-3c5a-4ddf-bda1-3c70e1b10451",
       "rows": [
        [
         "0",
         "FQ_ar5742_s2015-07-05T08:36:00_e2015-07-05T20:24:00.csv"
        ],
        [
         "1",
         "FQ_ar7015_s2017-05-19T07:24:00_e2017-05-19T19:12:00.csv"
        ],
        [
         "2",
         "FQ_ar5453_s2015-04-14T03:24:00_e2015-04-14T15:12:00.csv"
        ],
        [
         "3",
         "FQ_ar6174_s2015-12-16T10:36:00_e2015-12-16T22:24:00.csv"
        ],
        [
         "4",
         "FQ_ar5342_s2015-03-22T15:12:00_e2015-03-23T03:00:00.csv"
        ]
       ],
       "shape": {
        "columns": 1,
        "rows": 5
       }
      },
      "text/plain": [
       "0    FQ_ar5742_s2015-07-05T08:36:00_e2015-07-05T20:...\n",
       "1    FQ_ar7015_s2017-05-19T07:24:00_e2017-05-19T19:...\n",
       "2    FQ_ar5453_s2015-04-14T03:24:00_e2015-04-14T15:...\n",
       "3    FQ_ar6174_s2015-12-16T10:36:00_e2015-12-16T22:...\n",
       "4    FQ_ar5342_s2015-03-22T15:12:00_e2015-03-23T03:...\n",
       "dtype: object"
      ]
     },
     "execution_count": 4,
     "metadata": {},
     "output_type": "execute_result"
    }
   ],
   "source": [
    "nf_file_names.head()"
   ]
  },
  {
   "cell_type": "markdown",
   "id": "aa185309",
   "metadata": {},
   "source": [
    "Based on the above, we construct regular expressions that the file names seem to\n",
    "match."
   ]
  },
  {
   "cell_type": "code",
   "execution_count": null,
   "id": "019cd9e1",
   "metadata": {},
   "outputs": [],
   "source": [
    "flare_re = r\"[ABCMX][0-9]+\\.[0-9]+@[0-9]+:(Primary|Secondary)\"\n",
    "ar_num_re = r\"ar[0-9]+\"\n",
    "datetime_re = r\"\\d{4}-\\d{2}-\\d{2}T\\d{2}:\\d{2}:00\"\n",
    "timeframe_re = rf\"s{datetime_re}_e{datetime_re}\"\n",
    "\n",
    "fl_re = rf\"{flare_re}_{ar_num_re}_{timeframe_re}\\.csv\"\n",
    "nf_re = rf\"(FQ|{flare_re})_{ar_num_re}_{timeframe_re}\\.csv\""
   ]
  },
  {
   "cell_type": "markdown",
   "id": "a0151868",
   "metadata": {},
   "source": [
    "The file names do match the regular expressions. Thus, in `data/processed/make_df.py`,\n",
    "the flare class can be extracted from the beginning of the name, and the\n",
    "substring following `\"ar\"` can be extracted to obtain the active region number."
   ]
  },
  {
   "cell_type": "code",
   "execution_count": 6,
   "id": "7745822b",
   "metadata": {},
   "outputs": [],
   "source": [
    "assert fl_file_names.str.fullmatch(fl_re).all()\n",
    "assert nf_file_names.str.fullmatch(nf_re).all()"
   ]
  }
 ],
 "metadata": {
  "kernelspec": {
   "display_name": "Python 3",
   "language": "python",
   "name": "python3"
  },
  "language_info": {
   "codemirror_mode": {
    "name": "ipython",
    "version": 3
   },
   "file_extension": ".py",
   "mimetype": "text/x-python",
   "name": "python",
   "nbconvert_exporter": "python",
   "pygments_lexer": "ipython3",
   "version": "3.12.11"
  }
 },
 "nbformat": 4,
 "nbformat_minor": 5
}
