{
 "cells": [
  {
   "cell_type": "code",
   "execution_count": 1,
   "id": "b5ce063d",
   "metadata": {},
   "outputs": [],
   "source": [
    "import numpy as np\n",
    "import pandas as pd\n",
    "from plotnine import *"
   ]
  },
  {
   "cell_type": "markdown",
   "id": "56f31f8b",
   "metadata": {},
   "source": [
    "The correction factor polynomials computed in [Goodwin et al.](https://dx.doi.org/10.3847/1538-4357/adb4f6)\n",
    "are functions of the heliocentric angle. In this notebook, we examine how the\n",
    "heliocentric angles in SWAN-SF were calculated. The heliocentric angle of an\n",
    "object is defined as the angle between the rays from the solar center to the\n",
    "object and from the center to the observer.\n",
    "\n",
    "A formula for the heliocentric angle is simple to derive. We will need the\n",
    "notation below.\n",
    "- $r$: the distance between the object of interest and the solar center\n",
    "- $R_{\\odot}$: the solar radius\n",
    "- $B_0$: the Stonyhurst latitude of the observer\n",
    "- $\\Phi_0$: the Stonyhurst longitude of the observer\n",
    "- $\\Theta$: the Stonyhurst latitude of the object\n",
    "- $\\Phi$: the Stonyhurst longitude of the object\n",
    "- $\\mu$: the cosine of the heliocentric angle\n",
    "\n",
    "We make the simplifying assumption that $r = R_{\\odot}$, i.e., that the object\n",
    "is on the surface of the Sun. We first compute the Cartesian coordinates of\n",
    "the subobserver point, the point at which the ray to the observer\n",
    "intersects the surface, and the Cartesian coordinates of the object.\n",
    "\n",
    "We use a Cartesian coordinate system in which\n",
    "- the $z$-axis is the projection of the line between the center and the observer\n",
    "onto the plane of the solar equator\n",
    "- the $x$-axis is the line in the equatorial plane that is perpendicular\n",
    "to the $z$-axis and passes through the center\n",
    "- the $y$-axis is the line that passes through the poles.\n",
    "\n",
    "The $x$-, $y$-, and $z$-axes increase toward the western end of the equator, the\n",
    "North Pole, and the observer, respectively. Note that the western end of the\n",
    "equator lies to the right of the central meridian (see Figure 1 in\n",
    "[this paper by Thompson](https://doi.org/10.1051/0004-6361:20054262)). Drawing a\n",
    "picture may make this clearer.\n",
    "\n",
    "It follows from the discussion in Section 2.1 of Thompson's paper that $\\Phi_0$\n",
    "always equals zero; thus, the $x$-coordinate of the subobserver point equals\n",
    "zero. Also, the ray from the center to the subobserver point makes an\n",
    "angle of $B_0$ with the positive $z$-axis. Hence, the Cartesian coordinates of\n",
    "the subobserver point are\n",
    "$$\n",
    "(0, R_{\\odot}\\sin B_0, R_{\\odot}\\cos B_0) \\tag{1}.\n",
    "$$\n",
    "\n",
    "The ray to the object makes an angle of $\\Theta$ with the $x$-$z$\n",
    "plane, so the $y$-coordinate of the object is $R_{\\odot}\\sin\\Theta$. The $x$-\n",
    "and $z$-coordinates of the object define a point in the $x$-$z$ plane on a\n",
    "circle of radius $R_{\\odot}\\cos\\Theta$ centered at the origin. The ray from the\n",
    "origin to this point makes an angle of $\\Phi$ with the positive $z$-axis. Thus,\n",
    "the Cartesian coordinates of the object are\n",
    "$$\n",
    "(R_{\\odot}\\cos\\Theta\\sin\\Phi, R_{\\odot}\\sin\\Theta, R_{\\odot}\\cos\\Theta\\cos\\Phi) \\tag{2}.\n",
    "$$\n",
    "\n",
    "The inner product of the vectors to the subobserver point and to the object\n",
    "equals\n",
    "$$\n",
    "R_{\\odot}^2\\sin B_0\\sin\\Theta + R_{\\odot}^2\\cos B_0\\cos\\Theta\\cos\\Phi.\n",
    "$$\n",
    "Dividing this by the product of the norms of the vectors yields $\\mu$:\n",
    "$$\n",
    "\\mu = \\sin B_0\\sin\\Theta + \\cos B_0\\cos\\Theta\\cos\\Phi.\n",
    "$$\n",
    "The heliocentric angle can now be obtained by calculating $\\arccos\\mu$.\n",
    "\n",
    "\n",
    "Given the Stonyhurst coordinates of observers and objects, the function below\n",
    "computes heliocentric angles."
   ]
  },
  {
   "cell_type": "code",
   "execution_count": 2,
   "id": "2fa951a3",
   "metadata": {},
   "outputs": [],
   "source": [
    "def calc_heliocentric_angles(\n",
    "        B0: np.ndarray, Theta: np.ndarray, Phi: np.ndarray\n",
    "    ) -> np.ndarray:\n",
    "    B0 = np.deg2rad(B0)\n",
    "    Theta = np.deg2rad(Theta)\n",
    "    Phi = np.deg2rad(Phi)\n",
    "\n",
    "    mu = np.sin(B0) * np.sin(Theta) + np.cos(B0) * np.cos(Theta) * np.cos(Phi)\n",
    "    mu = np.clip(mu, -1, 1)\n",
    "\n",
    "    return np.rad2deg(np.arccos(mu))"
   ]
  },
  {
   "cell_type": "markdown",
   "id": "445859a8",
   "metadata": {},
   "source": [
    "We use the data frame containing data from all the active regions (ARs) included\n",
    "in SWAN-SF. The relevant columns are\n",
    "- `CRLT_OBS` (the Carrington latitude of the observer)\n",
    "- `CRLN_OBS` (the Carrington longitude of the observer)\n",
    "- `CRVAL2` (the Carrington latitude of the AR's geometric center)\n",
    "- `CRVAL1` (the Carrington longitude of the AR's geometric center)\n",
    "- `HC_ANGLE` (the heliocentric angle)\n",
    "\n",
    "Since Stonyhurst and Carrington latitudes are the same (see Section 2 of Thompson's paper), `CRLT_OBS` and `CRVAL2`\n",
    "also give the Stonyhurst latitudes of the observer and AR's geometric center,\n",
    "respectively. Since the observer's Stonyhurst longitude is always zero degrees,\n",
    "the Stonyhurst longitude of the AR's geometric center can be computed as\n",
    "`CRVAL1 - CRLN_OBS`."
   ]
  },
  {
   "cell_type": "code",
   "execution_count": 3,
   "id": "62e0765a",
   "metadata": {},
   "outputs": [
    {
     "data": {
      "application/vnd.microsoft.datawrangler.viewer.v0+json": {
       "columns": [
        {
         "name": "index",
         "rawType": "int64",
         "type": "integer"
        },
        {
         "name": "partition",
         "rawType": "int64",
         "type": "integer"
        },
        {
         "name": "ar_num",
         "rawType": "int64",
         "type": "integer"
        },
        {
         "name": "Timestamp",
         "rawType": "datetime64[ns, UTC]",
         "type": "unknown"
        },
        {
         "name": "TOTUSJH",
         "rawType": "float64",
         "type": "float"
        },
        {
         "name": "TOTBSQ",
         "rawType": "float64",
         "type": "float"
        },
        {
         "name": "TOTPOT",
         "rawType": "float64",
         "type": "float"
        },
        {
         "name": "TOTUSJZ",
         "rawType": "float64",
         "type": "float"
        },
        {
         "name": "ABSNJZH",
         "rawType": "float64",
         "type": "float"
        },
        {
         "name": "SAVNCPP",
         "rawType": "float64",
         "type": "float"
        },
        {
         "name": "USFLUX",
         "rawType": "float64",
         "type": "float"
        },
        {
         "name": "TOTFZ",
         "rawType": "float64",
         "type": "float"
        },
        {
         "name": "MEANPOT",
         "rawType": "float64",
         "type": "float"
        },
        {
         "name": "EPSZ",
         "rawType": "float64",
         "type": "float"
        },
        {
         "name": "MEANSHR",
         "rawType": "float64",
         "type": "float"
        },
        {
         "name": "SHRGT45",
         "rawType": "float64",
         "type": "float"
        },
        {
         "name": "MEANGAM",
         "rawType": "float64",
         "type": "float"
        },
        {
         "name": "MEANGBT",
         "rawType": "float64",
         "type": "float"
        },
        {
         "name": "MEANGBZ",
         "rawType": "float64",
         "type": "float"
        },
        {
         "name": "MEANGBH",
         "rawType": "float64",
         "type": "float"
        },
        {
         "name": "MEANJZH",
         "rawType": "float64",
         "type": "float"
        },
        {
         "name": "TOTFY",
         "rawType": "float64",
         "type": "float"
        },
        {
         "name": "MEANJZD",
         "rawType": "float64",
         "type": "float"
        },
        {
         "name": "MEANALP",
         "rawType": "float64",
         "type": "float"
        },
        {
         "name": "TOTFX",
         "rawType": "float64",
         "type": "float"
        },
        {
         "name": "EPSY",
         "rawType": "float64",
         "type": "float"
        },
        {
         "name": "EPSX",
         "rawType": "float64",
         "type": "float"
        },
        {
         "name": "R_VALUE",
         "rawType": "float64",
         "type": "float"
        },
        {
         "name": "CRVAL1",
         "rawType": "float64",
         "type": "float"
        },
        {
         "name": "CRLN_OBS",
         "rawType": "float64",
         "type": "float"
        },
        {
         "name": "CRLT_OBS",
         "rawType": "float64",
         "type": "float"
        },
        {
         "name": "CRVAL2",
         "rawType": "float64",
         "type": "float"
        },
        {
         "name": "HC_ANGLE",
         "rawType": "float64",
         "type": "float"
        },
        {
         "name": "SPEI",
         "rawType": "bool",
         "type": "boolean"
        },
        {
         "name": "QUALITY",
         "rawType": "float64",
         "type": "float"
        },
        {
         "name": "IS_TMFI",
         "rawType": "bool",
         "type": "boolean"
        }
       ],
       "ref": "d455c0b3-e734-4aef-b15a-3ae0e97dbc27",
       "rows": [
        [
         "0",
         "5",
         "6966",
         "2017-03-15 23:00:00+00:00",
         "5.706510343534255",
         "56304220.2933",
         "3.651979675289936e+20",
         "137794873994.29858",
         "0.5015662382713961",
         "38703328956.44136",
         "1.337773369349677e+20",
         "-5.781762447734854e+22",
         "1211.4067575732747",
         "-0.7732266120428031",
         "20.66871480154311",
         "1.3215859030837005",
         "22.09881075228864",
         "106.57151569695644",
         "108.07209330851678",
         "26.18293643507247",
         "-0.0022095428998739",
         "1.353281049669146e+22",
         "0.3276972487371494",
         "-0.0100473863369358",
         "1.5438771401868834e+22",
         "-0.1809816523311766",
         "-0.2064711065714439",
         "0.0",
         "188.465393",
         "229.610748",
         "-7.161022",
         "13.2617",
         "45.11312538791828",
         "True",
         "0.0",
         "True"
        ],
        [
         "1",
         "5",
         "6966",
         "2017-03-15 23:12:00+00:00",
         "6.119196648515494",
         "60791272.3853",
         "4.245861350095192e+20",
         "155823249268.09192",
         "0.3510825780332258",
         "15370803524.16015",
         "1.4416389946668278e+20",
         "-6.083007927664004e+22",
         "1278.8312168260036",
         "-0.7534675944893692",
         "21.950421970876107",
         "2.4",
         "22.937908455560517",
         "106.2299808715542",
         "106.389949452711",
         "27.73303135997732",
         "-0.0014043303121329",
         "1.3944033189821418e+22",
         "0.1181662594425099",
         "-0.0065871916148038",
         "1.8459899685057176e+22",
         "-0.1727168083611117",
         "-0.2286522782086264",
         "0.0",
         "188.467682",
         "229.500534",
         "-7.1610000000000005",
         "13.2617",
         "45.01523179098593",
         "True",
         "0.0",
         "True"
        ],
        [
         "2",
         "5",
         "6966",
         "2017-03-15 23:24:00+00:00",
         "10.626178455656156",
         "93688513.2942",
         "7.356110772536805e+20",
         "274918122066.9429",
         "0.4332916208785106",
         "53765693035.69991",
         "2.3246586876213592e+20",
         "-8.843276021118371e+22",
         "1291.1551414745074",
         "-0.7107457868917034",
         "22.97323043550776",
         "3.0303030303030303",
         "24.47074173654953",
         "98.98842315182448",
         "98.23070197359856",
         "27.49314566517253",
         "0.0010100037782715",
         "2.077641203006906e+22",
         "-0.2408636759698457",
         "0.0054067770263487",
         "3.272547542593073e+22",
         "-0.1669827706591273",
         "-0.263018973143696",
         "0.0",
         "188.470032",
         "229.390335",
         "-7.1609440000000015",
         "13.2617",
         "44.91733919006898",
         "True",
         "0.0",
         "True"
        ],
        [
         "3",
         "5",
         "6966",
         "2017-03-15 23:36:00+00:00",
         "16.168055481055315",
         "139900578.65109998",
         "1.0673015526107552e+21",
         "414657911261.9083",
         "0.3046172770213117",
         "22390967460.65591",
         "3.3950125203923934e+20",
         "-1.3679666517426483e+23",
         "1315.3257599120209",
         "-0.7362806620277701",
         "22.492299244783823",
         "3.109656301145664",
         "24.104608252976952",
         "101.49939092707464",
         "101.4257852338096",
         "27.025439275652843",
         "-0.0004985552815406",
         "3.1604485676143143e+22",
         "0.0704273101420103",
         "-0.0025081013862326",
         "4.516918071688418e+22",
         "-0.1701048165686975",
         "-0.2431140718168329",
         "0.0",
         "188.472366",
         "229.280167",
         "-7.1608550000000015",
         "13.2617",
         "44.81952906944654",
         "True",
         "0.0",
         "True"
        ],
        [
         "4",
         "5",
         "6966",
         "2017-03-15 23:48:00+00:00",
         "16.154519494299787",
         "144761527.0758",
         "1.049642487377993e+21",
         "400774609644.6847",
         "0.5005704326669927",
         "87804941853.517",
         "3.569914392883726e+20",
         "-1.4188632944737536e+23",
         "1223.4785435449014",
         "-0.7380314546202404",
         "21.76252563232134",
         "1.8575851393188847",
         "23.53855439897904",
         "97.44653427770731",
         "97.6350553754596",
         "25.30574310583207",
         "0.0007748768307538",
         "3.3362450679482215e+22",
         "-0.261205272060252",
         "0.0039790958555493",
         "4.648808290561287e+22",
         "-0.1735370708409693",
         "-0.241810945303656",
         "0.0",
         "188.474716",
         "229.170013",
         "-7.16073",
         "13.2617",
         "44.72175792656552",
         "True",
         "0.0",
         "True"
        ]
       ],
       "shape": {
        "columns": 35,
        "rows": 5
       }
      },
      "text/html": [
       "<div>\n",
       "<style scoped>\n",
       "    .dataframe tbody tr th:only-of-type {\n",
       "        vertical-align: middle;\n",
       "    }\n",
       "\n",
       "    .dataframe tbody tr th {\n",
       "        vertical-align: top;\n",
       "    }\n",
       "\n",
       "    .dataframe thead th {\n",
       "        text-align: right;\n",
       "    }\n",
       "</style>\n",
       "<table border=\"1\" class=\"dataframe\">\n",
       "  <thead>\n",
       "    <tr style=\"text-align: right;\">\n",
       "      <th></th>\n",
       "      <th>partition</th>\n",
       "      <th>ar_num</th>\n",
       "      <th>Timestamp</th>\n",
       "      <th>TOTUSJH</th>\n",
       "      <th>TOTBSQ</th>\n",
       "      <th>TOTPOT</th>\n",
       "      <th>TOTUSJZ</th>\n",
       "      <th>ABSNJZH</th>\n",
       "      <th>SAVNCPP</th>\n",
       "      <th>USFLUX</th>\n",
       "      <th>...</th>\n",
       "      <th>EPSX</th>\n",
       "      <th>R_VALUE</th>\n",
       "      <th>CRVAL1</th>\n",
       "      <th>CRLN_OBS</th>\n",
       "      <th>CRLT_OBS</th>\n",
       "      <th>CRVAL2</th>\n",
       "      <th>HC_ANGLE</th>\n",
       "      <th>SPEI</th>\n",
       "      <th>QUALITY</th>\n",
       "      <th>IS_TMFI</th>\n",
       "    </tr>\n",
       "  </thead>\n",
       "  <tbody>\n",
       "    <tr>\n",
       "      <th>0</th>\n",
       "      <td>5</td>\n",
       "      <td>6966</td>\n",
       "      <td>2017-03-15 23:00:00+00:00</td>\n",
       "      <td>5.706510</td>\n",
       "      <td>5.630422e+07</td>\n",
       "      <td>3.651980e+20</td>\n",
       "      <td>1.377949e+11</td>\n",
       "      <td>0.501566</td>\n",
       "      <td>3.870333e+10</td>\n",
       "      <td>1.337773e+20</td>\n",
       "      <td>...</td>\n",
       "      <td>-0.206471</td>\n",
       "      <td>0.0</td>\n",
       "      <td>188.465393</td>\n",
       "      <td>229.610748</td>\n",
       "      <td>-7.161022</td>\n",
       "      <td>13.2617</td>\n",
       "      <td>45.113125</td>\n",
       "      <td>True</td>\n",
       "      <td>0.0</td>\n",
       "      <td>True</td>\n",
       "    </tr>\n",
       "    <tr>\n",
       "      <th>1</th>\n",
       "      <td>5</td>\n",
       "      <td>6966</td>\n",
       "      <td>2017-03-15 23:12:00+00:00</td>\n",
       "      <td>6.119197</td>\n",
       "      <td>6.079127e+07</td>\n",
       "      <td>4.245861e+20</td>\n",
       "      <td>1.558232e+11</td>\n",
       "      <td>0.351083</td>\n",
       "      <td>1.537080e+10</td>\n",
       "      <td>1.441639e+20</td>\n",
       "      <td>...</td>\n",
       "      <td>-0.228652</td>\n",
       "      <td>0.0</td>\n",
       "      <td>188.467682</td>\n",
       "      <td>229.500534</td>\n",
       "      <td>-7.161000</td>\n",
       "      <td>13.2617</td>\n",
       "      <td>45.015232</td>\n",
       "      <td>True</td>\n",
       "      <td>0.0</td>\n",
       "      <td>True</td>\n",
       "    </tr>\n",
       "    <tr>\n",
       "      <th>2</th>\n",
       "      <td>5</td>\n",
       "      <td>6966</td>\n",
       "      <td>2017-03-15 23:24:00+00:00</td>\n",
       "      <td>10.626178</td>\n",
       "      <td>9.368851e+07</td>\n",
       "      <td>7.356111e+20</td>\n",
       "      <td>2.749181e+11</td>\n",
       "      <td>0.433292</td>\n",
       "      <td>5.376569e+10</td>\n",
       "      <td>2.324659e+20</td>\n",
       "      <td>...</td>\n",
       "      <td>-0.263019</td>\n",
       "      <td>0.0</td>\n",
       "      <td>188.470032</td>\n",
       "      <td>229.390335</td>\n",
       "      <td>-7.160944</td>\n",
       "      <td>13.2617</td>\n",
       "      <td>44.917339</td>\n",
       "      <td>True</td>\n",
       "      <td>0.0</td>\n",
       "      <td>True</td>\n",
       "    </tr>\n",
       "    <tr>\n",
       "      <th>3</th>\n",
       "      <td>5</td>\n",
       "      <td>6966</td>\n",
       "      <td>2017-03-15 23:36:00+00:00</td>\n",
       "      <td>16.168055</td>\n",
       "      <td>1.399006e+08</td>\n",
       "      <td>1.067302e+21</td>\n",
       "      <td>4.146579e+11</td>\n",
       "      <td>0.304617</td>\n",
       "      <td>2.239097e+10</td>\n",
       "      <td>3.395013e+20</td>\n",
       "      <td>...</td>\n",
       "      <td>-0.243114</td>\n",
       "      <td>0.0</td>\n",
       "      <td>188.472366</td>\n",
       "      <td>229.280167</td>\n",
       "      <td>-7.160855</td>\n",
       "      <td>13.2617</td>\n",
       "      <td>44.819529</td>\n",
       "      <td>True</td>\n",
       "      <td>0.0</td>\n",
       "      <td>True</td>\n",
       "    </tr>\n",
       "    <tr>\n",
       "      <th>4</th>\n",
       "      <td>5</td>\n",
       "      <td>6966</td>\n",
       "      <td>2017-03-15 23:48:00+00:00</td>\n",
       "      <td>16.154519</td>\n",
       "      <td>1.447615e+08</td>\n",
       "      <td>1.049642e+21</td>\n",
       "      <td>4.007746e+11</td>\n",
       "      <td>0.500570</td>\n",
       "      <td>8.780494e+10</td>\n",
       "      <td>3.569914e+20</td>\n",
       "      <td>...</td>\n",
       "      <td>-0.241811</td>\n",
       "      <td>0.0</td>\n",
       "      <td>188.474716</td>\n",
       "      <td>229.170013</td>\n",
       "      <td>-7.160730</td>\n",
       "      <td>13.2617</td>\n",
       "      <td>44.721758</td>\n",
       "      <td>True</td>\n",
       "      <td>0.0</td>\n",
       "      <td>True</td>\n",
       "    </tr>\n",
       "  </tbody>\n",
       "</table>\n",
       "<p>5 rows × 35 columns</p>\n",
       "</div>"
      ],
      "text/plain": [
       "   partition  ar_num                 Timestamp    TOTUSJH        TOTBSQ  \\\n",
       "0          5    6966 2017-03-15 23:00:00+00:00   5.706510  5.630422e+07   \n",
       "1          5    6966 2017-03-15 23:12:00+00:00   6.119197  6.079127e+07   \n",
       "2          5    6966 2017-03-15 23:24:00+00:00  10.626178  9.368851e+07   \n",
       "3          5    6966 2017-03-15 23:36:00+00:00  16.168055  1.399006e+08   \n",
       "4          5    6966 2017-03-15 23:48:00+00:00  16.154519  1.447615e+08   \n",
       "\n",
       "         TOTPOT       TOTUSJZ   ABSNJZH       SAVNCPP        USFLUX  ...  \\\n",
       "0  3.651980e+20  1.377949e+11  0.501566  3.870333e+10  1.337773e+20  ...   \n",
       "1  4.245861e+20  1.558232e+11  0.351083  1.537080e+10  1.441639e+20  ...   \n",
       "2  7.356111e+20  2.749181e+11  0.433292  5.376569e+10  2.324659e+20  ...   \n",
       "3  1.067302e+21  4.146579e+11  0.304617  2.239097e+10  3.395013e+20  ...   \n",
       "4  1.049642e+21  4.007746e+11  0.500570  8.780494e+10  3.569914e+20  ...   \n",
       "\n",
       "       EPSX  R_VALUE      CRVAL1    CRLN_OBS  CRLT_OBS   CRVAL2   HC_ANGLE  \\\n",
       "0 -0.206471      0.0  188.465393  229.610748 -7.161022  13.2617  45.113125   \n",
       "1 -0.228652      0.0  188.467682  229.500534 -7.161000  13.2617  45.015232   \n",
       "2 -0.263019      0.0  188.470032  229.390335 -7.160944  13.2617  44.917339   \n",
       "3 -0.243114      0.0  188.472366  229.280167 -7.160855  13.2617  44.819529   \n",
       "4 -0.241811      0.0  188.474716  229.170013 -7.160730  13.2617  44.721758   \n",
       "\n",
       "   SPEI  QUALITY  IS_TMFI  \n",
       "0  True      0.0     True  \n",
       "1  True      0.0     True  \n",
       "2  True      0.0     True  \n",
       "3  True      0.0     True  \n",
       "4  True      0.0     True  \n",
       "\n",
       "[5 rows x 35 columns]"
      ]
     },
     "execution_count": 3,
     "metadata": {},
     "output_type": "execute_result"
    }
   ],
   "source": [
    "all_ars_df = pd.read_parquet(\"all_ars_df.parquet\")\n",
    "all_ars_df.head()"
   ]
  },
  {
   "cell_type": "markdown",
   "id": "247acb04",
   "metadata": {},
   "source": [
    "According to page 7 of [the paper on the SWAN-SF dataset](https://doi.org/10.1038/s41597-020-0548-x),\n",
    "`IS_TMFI` equals `True` iff the record is for an active region within\n",
    "$70^{\\circ}$ of the disk center and is of high quality. For each record, we\n",
    "check whether it is complete, i.e., whether each column has a value. The table\n",
    "below shows that many records with `IS_TMFI = True` have missing values."
   ]
  },
  {
   "cell_type": "code",
   "execution_count": 4,
   "id": "3ba6d9e6",
   "metadata": {},
   "outputs": [
    {
     "data": {
      "application/vnd.microsoft.datawrangler.viewer.v0+json": {
       "columns": [
        {
         "name": "('IS_TMFI', 'is_complete')",
         "rawType": "object",
         "type": "unknown"
        },
        {
         "name": "count",
         "rawType": "int64",
         "type": "integer"
        }
       ],
       "ref": "7fad90b7-7def-4185-ae0d-642491c3172b",
       "rows": [
        [
         "(np.True_, np.True_)",
         "2056057"
        ],
        [
         "(np.False_, np.True_)",
         "553896"
        ],
        [
         "(np.False_, np.False_)",
         "249897"
        ],
        [
         "(np.True_, np.False_)",
         "19808"
        ]
       ],
       "shape": {
        "columns": 1,
        "rows": 4
       }
      },
      "text/plain": [
       "IS_TMFI  is_complete\n",
       "True     True           2056057\n",
       "False    True            553896\n",
       "         False           249897\n",
       "True     False            19808\n",
       "Name: count, dtype: int64"
      ]
     },
     "execution_count": 4,
     "metadata": {},
     "output_type": "execute_result"
    }
   ],
   "source": [
    "all_ars_df[\"is_complete\"] = all_ars_df.notna().all(axis=1)\n",
    "all_ars_df[[\"IS_TMFI\", \"is_complete\"]].value_counts()"
   ]
  },
  {
   "cell_type": "markdown",
   "id": "054f3f8b",
   "metadata": {},
   "source": [
    "Below is a selection of incomplete records with `IS_TMFI = True`."
   ]
  },
  {
   "cell_type": "code",
   "execution_count": 5,
   "id": "345f26e0",
   "metadata": {},
   "outputs": [
    {
     "data": {
      "application/vnd.microsoft.datawrangler.viewer.v0+json": {
       "columns": [
        {
         "name": "index",
         "rawType": "int64",
         "type": "integer"
        },
        {
         "name": "partition",
         "rawType": "int64",
         "type": "integer"
        },
        {
         "name": "ar_num",
         "rawType": "int64",
         "type": "integer"
        },
        {
         "name": "Timestamp",
         "rawType": "datetime64[ns, UTC]",
         "type": "unknown"
        },
        {
         "name": "TOTUSJH",
         "rawType": "float64",
         "type": "float"
        },
        {
         "name": "TOTBSQ",
         "rawType": "float64",
         "type": "float"
        },
        {
         "name": "TOTPOT",
         "rawType": "float64",
         "type": "float"
        },
        {
         "name": "TOTUSJZ",
         "rawType": "float64",
         "type": "float"
        },
        {
         "name": "ABSNJZH",
         "rawType": "float64",
         "type": "float"
        },
        {
         "name": "SAVNCPP",
         "rawType": "float64",
         "type": "float"
        },
        {
         "name": "USFLUX",
         "rawType": "float64",
         "type": "float"
        },
        {
         "name": "TOTFZ",
         "rawType": "float64",
         "type": "float"
        },
        {
         "name": "MEANPOT",
         "rawType": "float64",
         "type": "float"
        },
        {
         "name": "EPSZ",
         "rawType": "float64",
         "type": "float"
        },
        {
         "name": "MEANSHR",
         "rawType": "float64",
         "type": "float"
        },
        {
         "name": "SHRGT45",
         "rawType": "float64",
         "type": "float"
        },
        {
         "name": "MEANGAM",
         "rawType": "float64",
         "type": "float"
        },
        {
         "name": "MEANGBT",
         "rawType": "float64",
         "type": "float"
        },
        {
         "name": "MEANGBZ",
         "rawType": "float64",
         "type": "float"
        },
        {
         "name": "MEANGBH",
         "rawType": "float64",
         "type": "float"
        },
        {
         "name": "MEANJZH",
         "rawType": "float64",
         "type": "float"
        },
        {
         "name": "TOTFY",
         "rawType": "float64",
         "type": "float"
        },
        {
         "name": "MEANJZD",
         "rawType": "float64",
         "type": "float"
        },
        {
         "name": "MEANALP",
         "rawType": "float64",
         "type": "float"
        },
        {
         "name": "TOTFX",
         "rawType": "float64",
         "type": "float"
        },
        {
         "name": "EPSY",
         "rawType": "float64",
         "type": "float"
        },
        {
         "name": "EPSX",
         "rawType": "float64",
         "type": "float"
        },
        {
         "name": "R_VALUE",
         "rawType": "float64",
         "type": "float"
        },
        {
         "name": "CRVAL1",
         "rawType": "float64",
         "type": "float"
        },
        {
         "name": "CRLN_OBS",
         "rawType": "float64",
         "type": "float"
        },
        {
         "name": "CRLT_OBS",
         "rawType": "float64",
         "type": "float"
        },
        {
         "name": "CRVAL2",
         "rawType": "float64",
         "type": "float"
        },
        {
         "name": "HC_ANGLE",
         "rawType": "float64",
         "type": "float"
        },
        {
         "name": "SPEI",
         "rawType": "bool",
         "type": "boolean"
        },
        {
         "name": "QUALITY",
         "rawType": "float64",
         "type": "float"
        },
        {
         "name": "IS_TMFI",
         "rawType": "bool",
         "type": "boolean"
        },
        {
         "name": "is_complete",
         "rawType": "bool",
         "type": "boolean"
        }
       ],
       "ref": "2ec38803-ba1c-4fa8-bafe-2dafe2a6349f",
       "rows": [
        [
         "13346",
         "5",
         "5704",
         "2015-06-20 04:12:00+00:00",
         "0.0",
         "0.0",
         "0.0",
         "0.0",
         "0.0",
         "0.0",
         "0.0",
         "0.0",
         null,
         null,
         null,
         null,
         null,
         null,
         null,
         null,
         null,
         "0.0",
         null,
         null,
         "-0.0",
         null,
         null,
         "0.0",
         "298.948944",
         "326.482483",
         "1.586561",
         "-22.8214",
         "36.148671994211384",
         "True",
         "0.0",
         "True",
         "False"
        ],
        [
         "13347",
         "5",
         "5704",
         "2015-06-20 04:24:00+00:00",
         "0.0",
         "0.0",
         "0.0",
         "0.0",
         "0.0",
         "0.0",
         "0.0",
         "0.0",
         null,
         null,
         null,
         null,
         null,
         null,
         null,
         null,
         null,
         "0.0",
         null,
         null,
         "-0.0",
         null,
         null,
         "0.0",
         "298.949951",
         "326.372803",
         "1.587905",
         "-22.8214",
         "36.070592606837046",
         "True",
         "0.0",
         "True",
         "False"
        ],
        [
         "13348",
         "5",
         "5704",
         "2015-06-20 04:36:00+00:00",
         "0.0",
         "0.0",
         "0.0",
         "0.0",
         "0.0",
         "0.0",
         "0.0",
         "0.0",
         null,
         null,
         null,
         null,
         null,
         null,
         null,
         null,
         null,
         "0.0",
         null,
         null,
         "-0.0",
         null,
         null,
         "0.0",
         "298.950989",
         "326.263153",
         "1.589222",
         "-22.8214",
         "35.99264512008639",
         "True",
         "0.0",
         "True",
         "False"
        ],
        [
         "13349",
         "5",
         "5704",
         "2015-06-20 04:48:00+00:00",
         "0.0",
         "0.0",
         "0.0",
         "0.0",
         "0.0",
         "0.0",
         "0.0",
         "0.0",
         null,
         null,
         null,
         null,
         null,
         null,
         null,
         null,
         null,
         "0.0",
         null,
         null,
         "-0.0",
         null,
         null,
         "0.0",
         "298.952148",
         "326.153534",
         "1.590511",
         "-22.8214",
         "35.914766588697255",
         "True",
         "0.0",
         "True",
         "False"
        ],
        [
         "13350",
         "5",
         "5704",
         "2015-06-20 05:00:00+00:00",
         "0.0",
         "0.0",
         "0.0",
         "0.0",
         "0.0",
         "0.0",
         "0.0",
         "0.0",
         null,
         null,
         null,
         null,
         null,
         null,
         null,
         null,
         null,
         "0.0",
         null,
         null,
         "-0.0",
         null,
         null,
         "0.0",
         "298.9532470000001",
         "326.043945",
         "1.5917709999999998",
         "-22.8214",
         "35.837085072522356",
         "True",
         "0.0",
         "True",
         "False"
        ]
       ],
       "shape": {
        "columns": 36,
        "rows": 5
       }
      },
      "text/html": [
       "<div>\n",
       "<style scoped>\n",
       "    .dataframe tbody tr th:only-of-type {\n",
       "        vertical-align: middle;\n",
       "    }\n",
       "\n",
       "    .dataframe tbody tr th {\n",
       "        vertical-align: top;\n",
       "    }\n",
       "\n",
       "    .dataframe thead th {\n",
       "        text-align: right;\n",
       "    }\n",
       "</style>\n",
       "<table border=\"1\" class=\"dataframe\">\n",
       "  <thead>\n",
       "    <tr style=\"text-align: right;\">\n",
       "      <th></th>\n",
       "      <th>partition</th>\n",
       "      <th>ar_num</th>\n",
       "      <th>Timestamp</th>\n",
       "      <th>TOTUSJH</th>\n",
       "      <th>TOTBSQ</th>\n",
       "      <th>TOTPOT</th>\n",
       "      <th>TOTUSJZ</th>\n",
       "      <th>ABSNJZH</th>\n",
       "      <th>SAVNCPP</th>\n",
       "      <th>USFLUX</th>\n",
       "      <th>...</th>\n",
       "      <th>R_VALUE</th>\n",
       "      <th>CRVAL1</th>\n",
       "      <th>CRLN_OBS</th>\n",
       "      <th>CRLT_OBS</th>\n",
       "      <th>CRVAL2</th>\n",
       "      <th>HC_ANGLE</th>\n",
       "      <th>SPEI</th>\n",
       "      <th>QUALITY</th>\n",
       "      <th>IS_TMFI</th>\n",
       "      <th>is_complete</th>\n",
       "    </tr>\n",
       "  </thead>\n",
       "  <tbody>\n",
       "    <tr>\n",
       "      <th>13346</th>\n",
       "      <td>5</td>\n",
       "      <td>5704</td>\n",
       "      <td>2015-06-20 04:12:00+00:00</td>\n",
       "      <td>0.0</td>\n",
       "      <td>0.0</td>\n",
       "      <td>0.0</td>\n",
       "      <td>0.0</td>\n",
       "      <td>0.0</td>\n",
       "      <td>0.0</td>\n",
       "      <td>0.0</td>\n",
       "      <td>...</td>\n",
       "      <td>0.0</td>\n",
       "      <td>298.948944</td>\n",
       "      <td>326.482483</td>\n",
       "      <td>1.586561</td>\n",
       "      <td>-22.8214</td>\n",
       "      <td>36.148672</td>\n",
       "      <td>True</td>\n",
       "      <td>0.0</td>\n",
       "      <td>True</td>\n",
       "      <td>False</td>\n",
       "    </tr>\n",
       "    <tr>\n",
       "      <th>13347</th>\n",
       "      <td>5</td>\n",
       "      <td>5704</td>\n",
       "      <td>2015-06-20 04:24:00+00:00</td>\n",
       "      <td>0.0</td>\n",
       "      <td>0.0</td>\n",
       "      <td>0.0</td>\n",
       "      <td>0.0</td>\n",
       "      <td>0.0</td>\n",
       "      <td>0.0</td>\n",
       "      <td>0.0</td>\n",
       "      <td>...</td>\n",
       "      <td>0.0</td>\n",
       "      <td>298.949951</td>\n",
       "      <td>326.372803</td>\n",
       "      <td>1.587905</td>\n",
       "      <td>-22.8214</td>\n",
       "      <td>36.070593</td>\n",
       "      <td>True</td>\n",
       "      <td>0.0</td>\n",
       "      <td>True</td>\n",
       "      <td>False</td>\n",
       "    </tr>\n",
       "    <tr>\n",
       "      <th>13348</th>\n",
       "      <td>5</td>\n",
       "      <td>5704</td>\n",
       "      <td>2015-06-20 04:36:00+00:00</td>\n",
       "      <td>0.0</td>\n",
       "      <td>0.0</td>\n",
       "      <td>0.0</td>\n",
       "      <td>0.0</td>\n",
       "      <td>0.0</td>\n",
       "      <td>0.0</td>\n",
       "      <td>0.0</td>\n",
       "      <td>...</td>\n",
       "      <td>0.0</td>\n",
       "      <td>298.950989</td>\n",
       "      <td>326.263153</td>\n",
       "      <td>1.589222</td>\n",
       "      <td>-22.8214</td>\n",
       "      <td>35.992645</td>\n",
       "      <td>True</td>\n",
       "      <td>0.0</td>\n",
       "      <td>True</td>\n",
       "      <td>False</td>\n",
       "    </tr>\n",
       "    <tr>\n",
       "      <th>13349</th>\n",
       "      <td>5</td>\n",
       "      <td>5704</td>\n",
       "      <td>2015-06-20 04:48:00+00:00</td>\n",
       "      <td>0.0</td>\n",
       "      <td>0.0</td>\n",
       "      <td>0.0</td>\n",
       "      <td>0.0</td>\n",
       "      <td>0.0</td>\n",
       "      <td>0.0</td>\n",
       "      <td>0.0</td>\n",
       "      <td>...</td>\n",
       "      <td>0.0</td>\n",
       "      <td>298.952148</td>\n",
       "      <td>326.153534</td>\n",
       "      <td>1.590511</td>\n",
       "      <td>-22.8214</td>\n",
       "      <td>35.914767</td>\n",
       "      <td>True</td>\n",
       "      <td>0.0</td>\n",
       "      <td>True</td>\n",
       "      <td>False</td>\n",
       "    </tr>\n",
       "    <tr>\n",
       "      <th>13350</th>\n",
       "      <td>5</td>\n",
       "      <td>5704</td>\n",
       "      <td>2015-06-20 05:00:00+00:00</td>\n",
       "      <td>0.0</td>\n",
       "      <td>0.0</td>\n",
       "      <td>0.0</td>\n",
       "      <td>0.0</td>\n",
       "      <td>0.0</td>\n",
       "      <td>0.0</td>\n",
       "      <td>0.0</td>\n",
       "      <td>...</td>\n",
       "      <td>0.0</td>\n",
       "      <td>298.953247</td>\n",
       "      <td>326.043945</td>\n",
       "      <td>1.591771</td>\n",
       "      <td>-22.8214</td>\n",
       "      <td>35.837085</td>\n",
       "      <td>True</td>\n",
       "      <td>0.0</td>\n",
       "      <td>True</td>\n",
       "      <td>False</td>\n",
       "    </tr>\n",
       "  </tbody>\n",
       "</table>\n",
       "<p>5 rows × 36 columns</p>\n",
       "</div>"
      ],
      "text/plain": [
       "       partition  ar_num                 Timestamp  TOTUSJH  TOTBSQ  TOTPOT  \\\n",
       "13346          5    5704 2015-06-20 04:12:00+00:00      0.0     0.0     0.0   \n",
       "13347          5    5704 2015-06-20 04:24:00+00:00      0.0     0.0     0.0   \n",
       "13348          5    5704 2015-06-20 04:36:00+00:00      0.0     0.0     0.0   \n",
       "13349          5    5704 2015-06-20 04:48:00+00:00      0.0     0.0     0.0   \n",
       "13350          5    5704 2015-06-20 05:00:00+00:00      0.0     0.0     0.0   \n",
       "\n",
       "       TOTUSJZ  ABSNJZH  SAVNCPP  USFLUX  ...  R_VALUE      CRVAL1  \\\n",
       "13346      0.0      0.0      0.0     0.0  ...      0.0  298.948944   \n",
       "13347      0.0      0.0      0.0     0.0  ...      0.0  298.949951   \n",
       "13348      0.0      0.0      0.0     0.0  ...      0.0  298.950989   \n",
       "13349      0.0      0.0      0.0     0.0  ...      0.0  298.952148   \n",
       "13350      0.0      0.0      0.0     0.0  ...      0.0  298.953247   \n",
       "\n",
       "         CRLN_OBS  CRLT_OBS   CRVAL2   HC_ANGLE  SPEI  QUALITY  IS_TMFI  \\\n",
       "13346  326.482483  1.586561 -22.8214  36.148672  True      0.0     True   \n",
       "13347  326.372803  1.587905 -22.8214  36.070593  True      0.0     True   \n",
       "13348  326.263153  1.589222 -22.8214  35.992645  True      0.0     True   \n",
       "13349  326.153534  1.590511 -22.8214  35.914767  True      0.0     True   \n",
       "13350  326.043945  1.591771 -22.8214  35.837085  True      0.0     True   \n",
       "\n",
       "       is_complete  \n",
       "13346        False  \n",
       "13347        False  \n",
       "13348        False  \n",
       "13349        False  \n",
       "13350        False  \n",
       "\n",
       "[5 rows x 36 columns]"
      ]
     },
     "execution_count": 5,
     "metadata": {},
     "output_type": "execute_result"
    }
   ],
   "source": [
    "all_ars_df.query(\"IS_TMFI & ~is_complete\").head()"
   ]
  },
  {
   "cell_type": "markdown",
   "id": "7c4d429b",
   "metadata": {},
   "source": [
    "The plot below is based on good records, i.e., complete records with\n",
    "`IS_TMFI = True`.\n",
    "\n",
    "The left panel shows that the Carrington latitude of the observer isn't always\n",
    "zero, but instead falls into a narrow range around zero. Therefore, the\n",
    "Stonyhurst latitude of the observer cannot be assumed to be zero.\n",
    "\n",
    "The Carrington longitude of the observer should be uniformly distributed on\n",
    "$[0, 360]$, but its distribution in the right panel doesn't look uniform. The\n",
    "deviation from uniformity might be due to missing values and to the fact that\n",
    "the data is on just a part of one solar cycle."
   ]
  },
  {
   "cell_type": "code",
   "execution_count": 6,
   "id": "4d01f8ae",
   "metadata": {},
   "outputs": [
    {
     "data": {
      "image/png": "[encoded data removed]"
     },
     "metadata": {
      "image/png": {
       "height": 480,
       "width": 640
      }
     },
     "output_type": "display_data"
    }
   ],
   "source": [
    "plot_data = (\n",
    "    all_ars_df\n",
    "    .query(\"IS_TMFI & is_complete\")\n",
    "    [[\"CRLT_OBS\", \"CRLN_OBS\"]]\n",
    "    .melt(var_name=\"coord\", value_name=\"val\")\n",
    ")\n",
    "plot_data[\"coord\"] = pd.Categorical(\n",
    "    plot_data[\"coord\"], [\"CRLT_OBS\", \"CRLN_OBS\"]\n",
    ")\n",
    "(\n",
    "    ggplot(plot_data, aes(x=\"val\")) +\n",
    "    facet_wrap(\"coord\", scales=\"free\") +\n",
    "    geom_histogram(binwidth=1) +\n",
    "    labs(x=\"Value (°)\", y=\"Number of Good Records\") +\n",
    "    theme_bw()\n",
    ")"
   ]
  },
  {
   "cell_type": "markdown",
   "id": "a6b56cf0",
   "metadata": {},
   "source": [
    "Based on the code [here](https://bitbucket.org/gsudmlab/armvtsprep/src/main/mvts/add_TMFI_column.py),\n",
    "it seems like `HC_ANGLE` was calculated by setting $B_0 = 0$, by calculating the\n",
    "Stonyhurst latitude of the AR center as `CRVAL2 - CRLT_OBS`, and by calculating\n",
    "the Stonyhurst longitude of the AR center as `CRVAL1 - CRLN_OBS`. The code below\n",
    "confirms this; values agree to within $10^{-11\\,\\circ}$."
   ]
  },
  {
   "cell_type": "code",
   "execution_count": 7,
   "id": "47739973",
   "metadata": {},
   "outputs": [],
   "source": [
    "all_ars_df[\"HC_ANGLE_dup\"] = calc_heliocentric_angles(\n",
    "    B0=0,\n",
    "    Theta=all_ars_df[\"CRVAL2\"] - all_ars_df[\"CRLT_OBS\"],\n",
    "    Phi=all_ars_df[\"CRVAL1\"] - all_ars_df[\"CRLN_OBS\"]\n",
    ")\n",
    "all_ars_df[\"orig_equals_dup\"] = np.isclose(\n",
    "    all_ars_df[\"HC_ANGLE\"],\n",
    "    all_ars_df[\"HC_ANGLE_dup\"],\n",
    "    rtol=0,\n",
    "    atol=1e-11,\n",
    "    equal_nan=True\n",
    ")\n",
    "\n",
    "assert all_ars_df[\"orig_equals_dup\"].all()"
   ]
  },
  {
   "cell_type": "markdown",
   "id": "9f6a3ce6",
   "metadata": {},
   "source": [
    "However, `HC_ANGLE` should have been calculated by setting $B_0$ equal to\n",
    "`CRLT_OBS` and $\\Theta$ to `CRVAL2`. The code below shows that even if we only\n",
    "look at good records and use a large tolerance of $0.1^{\\circ}$, `HC_ANGLE` has\n",
    "the wrong value for most records."
   ]
  },
  {
   "cell_type": "code",
   "execution_count": 8,
   "id": "e8accfdb",
   "metadata": {},
   "outputs": [
    {
     "data": {
      "application/vnd.microsoft.datawrangler.viewer.v0+json": {
       "columns": [
        {
         "name": "orig_equals_right",
         "rawType": "bool",
         "type": "boolean"
        },
        {
         "name": "proportion",
         "rawType": "float64",
         "type": "float"
        }
       ],
       "ref": "60f583dc-1403-49c4-a5bd-3b95e4c108dc",
       "rows": [
        [
         "False",
         "0.6254150541546271"
        ],
        [
         "True",
         "0.37458494584537294"
        ]
       ],
       "shape": {
        "columns": 1,
        "rows": 2
       }
      },
      "text/plain": [
       "orig_equals_right\n",
       "False    0.625415\n",
       "True     0.374585\n",
       "Name: proportion, dtype: float64"
      ]
     },
     "execution_count": 8,
     "metadata": {},
     "output_type": "execute_result"
    }
   ],
   "source": [
    "all_ars_df[\"HC_ANGLE_right\"] = calc_heliocentric_angles(\n",
    "    B0=all_ars_df[\"CRLT_OBS\"],\n",
    "    Theta=all_ars_df[\"CRVAL2\"],\n",
    "    Phi=all_ars_df[\"CRVAL1\"] - all_ars_df[\"CRLN_OBS\"]\n",
    ")\n",
    "all_ars_df[\"orig_equals_right\"] = np.isclose(\n",
    "    all_ars_df[\"HC_ANGLE\"],\n",
    "    all_ars_df[\"HC_ANGLE_right\"],\n",
    "    rtol=0,\n",
    "    atol=0.1,\n",
    "    equal_nan=True\n",
    ")\n",
    "all_ars_df[\"orig_minus_right\"] = all_ars_df[\"HC_ANGLE\"] - \\\n",
    "    all_ars_df[\"HC_ANGLE_right\"]\n",
    "\n",
    "(\n",
    "    all_ars_df\n",
    "    .query(\"IS_TMFI & is_complete\")\n",
    "    [\"orig_equals_right\"]\n",
    "    .value_counts(normalize=True)\n",
    ")"
   ]
  },
  {
   "cell_type": "markdown",
   "id": "49b4a391",
   "metadata": {},
   "source": [
    "The histogram below shows that for the good records, the largest differences\n",
    "between actual and correct values are around $2^{\\circ}$ in magnitude, with most\n",
    "differences being close to $0^{\\circ}$."
   ]
  },
  {
   "cell_type": "code",
   "execution_count": 9,
   "id": "980f48c4",
   "metadata": {},
   "outputs": [
    {
     "data": {
      "image/png": "[encoded data removed]"
     },
     "metadata": {
      "image/png": {
       "height": 480,
       "width": 640
      }
     },
     "output_type": "display_data"
    }
   ],
   "source": [
    "(\n",
    "    ggplot(\n",
    "        all_ars_df.query(\"IS_TMFI & is_complete\"), aes(x=\"orig_minus_right\")\n",
    "    ) +\n",
    "    geom_histogram(binwidth=0.1) +\n",
    "    labs(x=\"HC_ANGLE Minus Correct Value (°)\", y=\"Number of Good Records\") +\n",
    "    theme_bw()\n",
    ")"
   ]
  },
  {
   "cell_type": "markdown",
   "id": "782189a2",
   "metadata": {},
   "source": [
    "If the $y$- and $z$-axes are rotated so that $B_0 = 0$, i.e., so that the\n",
    "$z$-axis passes through the subobserver point, then both Stonyhurst latitudes\n",
    "and Stonyhurst longitudes need to be adjusted.\n",
    "\n",
    "The new Stonyhurst latitude of a point is the angle between the center-to-point\n",
    "vector and its projection onto the plane spanned by the $x$-axis and the new\n",
    "$z$-axis.\n",
    "\n",
    "Let $v \\in \\mathbb{R}^3$ be the vector and let $Q \\in \\mathbb{R}^{3 \\times 2}$\n",
    "be a matrix whose columns form an orthonormal basis of the plane. Then the\n",
    "projection onto the plane is $Q Q^{\\top}v$, so the cosine of the new latitude is\n",
    "$$\n",
    "\\frac{v^{\\top}Q Q^{\\top}v}{\\|v\\|_2\\|Q Q^{\\top}v\\|_2}\n",
    "= \\frac{\\|Q^{\\top}v\\|_2^2}{\\|v\\|_2\\|Q^{\\top}v\\|_2}\n",
    "= \\left\\|Q^{\\top}\\frac{v}{\\|v\\|_2}\\right\\|_2.\n",
    "$$\n",
    "By $(1)$, the new $z$-axis is parallel to $w := (0, \\sin B_0, \\cos B_0)$. This\n",
    "vector and the vector $(1, 0, 0)$ form an orthonormal basis of the plane, so we\n",
    "have\n",
    "$$\n",
    "Q = \\left(\\begin{matrix} 1 & 0 \\\\ 0 & \\sin B_0 \\\\ 0 & \\cos B_0 \\end{matrix}\\right).\n",
    "$$\n",
    "By $(2)$, $v = (R_{\\odot}\\cos\\Theta\\sin\\Phi, R_{\\odot}\\sin\\Theta, R_{\\odot}\\cos\\Theta\\cos\\Phi)$.\n",
    "Since $\\|v\\|_2 = R_{\\odot}$, we get\n",
    "$$\n",
    "\\frac{v}{\\|v\\|_2} = (\\cos\\Theta\\sin\\Phi, \\sin\\Theta, \\cos\\Theta\\cos\\Phi).\n",
    "$$\n",
    "Hence,\n",
    "$$\n",
    "\\begin{align*}\n",
    "Q^{\\top}\\frac{v}{\\|v\\|_2}\n",
    "&= \\left(\\begin{matrix} 1 & 0 & 0 \\\\ 0 & \\sin B_0 & \\cos B_0 \\end{matrix}\\right)\\left(\\begin{matrix} \\cos\\Theta\\sin\\Phi \\\\ \\sin\\Theta \\\\ \\cos\\Theta\\cos\\Phi \\end{matrix}\\right) \\\\\n",
    "&= \\left(\\begin{matrix} \\cos\\Theta\\sin\\Phi \\\\ \\sin B_0\\sin\\Theta + \\cos B_0\\cos\\Theta\\cos\\Phi \\end{matrix}\\right); \\\\\n",
    "\\left\\|Q^{\\top}\\frac{v}{\\|v\\|_2}\\right\\|_2\n",
    "&= \\sqrt{\\cos^2\\Theta\\sin^2\\Phi + (\\sin B_0\\sin\\Theta + \\cos B_0\\cos\\Theta\\cos\\Phi)^2}. \\tag{3}\n",
    "\\end{align*}\n",
    "$$\n",
    "Expanding the expression inside the square root yields an expression that\n",
    "doesn't seem like it can be simplified. We can now express the new latitude as\n",
    "$$\n",
    "\\arccos\\sqrt{\\cos^2\\Theta\\sin^2\\Phi + (\\sin B_0\\sin\\Theta + \\cos B_0\\cos\\Theta\\cos\\Phi)^2}, \\tag{4}\n",
    "$$\n",
    "which doesn't appear to simplify to $\\Theta - B_0$, the difference corresponding\n",
    "to `CRVAL2 - CRLT_OBS`. However, note that when $\\Phi = 0$, the new latitude\n",
    "does simplify to $\\Theta - B_0$.\n",
    "\n",
    "We next compute the new Stonyhurst longitude of the point. This is just the\n",
    "angle between the projection of $v$ and the vector $w$. The cosine of the angle\n",
    "is thus\n",
    "$$\n",
    "\\frac{w^{\\top}Q Q^{\\top}v}{\\|w\\|_2\\|Q Q^{\\top}v\\|_2}\n",
    "= \\frac{(Q Q^{\\top}w)^{\\top}v}{\\|Q^{\\top}v\\|_2}\n",
    "= \\frac{w^{\\top}v}{\\|Q^{\\top}v\\|_2},\n",
    "= \\frac{w^{\\top}(v / \\|v\\|_2)}{\\|Q^{\\top}(v / \\|v\\|_2)\\|_2},\n",
    "$$\n",
    "where we used the fact that $w$ is in the plane that $Q Q^{\\top}$ projects onto.\n",
    "We have\n",
    "$$\n",
    "w^{\\top}(v / \\|v\\|_2)\n",
    "= \\left(\\begin{matrix} 0 & \\sin B_0 & \\cos B_0 \\end{matrix}\\right)\\left(\\begin{matrix} \\cos\\Theta\\sin\\Phi \\\\ \\sin\\Theta \\\\ \\cos\\Theta\\cos\\Phi\\end{matrix}\\right)\n",
    "= \\sin B_0\\sin\\Theta + \\cos B_0\\cos\\Theta\\cos\\Phi.\n",
    "$$\n",
    "It follows from this and $(3)$ that the new longitude is\n",
    "$$\n",
    "\\arccos\\frac{\\sin B_0\\sin\\Theta + \\cos B_0\\cos\\Theta\\cos\\Phi}{\\sqrt{\\cos^2\\Theta\\sin^2\\Phi + (\\sin B_0\\sin\\Theta + \\cos B_0\\cos\\Theta\\cos\\Phi)^2}}. \\tag{5}\n",
    "$$\n",
    "This doesn't seem to always simplify to $\\Phi$, which is the value of\n",
    "`CRVAL1 - CRLN_OBS`. When $\\Phi = 0$, the new longitude is also zero degrees\n",
    "though.\n",
    "\n",
    "The following functions uses the formulas in $(4)$ and $(5)$ to calculate the new latitude and longitude."
   ]
  },
  {
   "cell_type": "code",
   "execution_count": 10,
   "id": "a5b2f571",
   "metadata": {},
   "outputs": [],
   "source": [
    "def calc_new_stonyhurst_lats(\n",
    "        B0: np.ndarray, Theta: np.ndarray, Phi: np.ndarray\n",
    "    ) -> np.ndarray:\n",
    "    B0 = np.deg2rad(B0)\n",
    "    Theta = np.deg2rad(Theta)\n",
    "    Phi = np.deg2rad(Phi)\n",
    "\n",
    "    Q_T_v_unit_0s = np.cos(Theta) * np.sin(Phi)\n",
    "    Q_T_v_unit_1s = np.sin(B0) * np.sin(Theta) + \\\n",
    "        np.cos(B0) * np.cos(Theta) * np.cos(Phi)\n",
    "    cosines = np.hypot(Q_T_v_unit_0s, Q_T_v_unit_1s)\n",
    "    cosines = np.clip(cosines, -1, 1)\n",
    "\n",
    "    return np.rad2deg(np.arccos(cosines))\n",
    "\n",
    "def calc_new_stonyhurst_longs(\n",
    "        B0: np.ndarray, Theta: np.ndarray, Phi: np.ndarray\n",
    "    ) -> np.ndarray:\n",
    "    B0 = np.deg2rad(B0)\n",
    "    Theta = np.deg2rad(Theta)\n",
    "    Phi = np.deg2rad(Phi)\n",
    "\n",
    "    numers = np.sin(B0) * np.sin(Theta) + \\\n",
    "        np.cos(B0) * np.cos(Theta) * np.cos(Phi)\n",
    "    denoms = np.hypot(np.cos(Theta) * np.sin(Phi), numers)\n",
    "    cosines = np.clip(numers / denoms, -1, 1)\n",
    "\n",
    "    return np.rad2deg(np.arccos(cosines))"
   ]
  },
  {
   "cell_type": "markdown",
   "id": "cbc627fe",
   "metadata": {},
   "source": [
    "The code below verifies that we can use the new latitudes and longitudes to\n",
    "calculate the correct values of the heliocentric angle."
   ]
  },
  {
   "cell_type": "code",
   "execution_count": 11,
   "id": "c44c5942",
   "metadata": {},
   "outputs": [],
   "source": [
    "all_ars_df[\"new_Theta\"] = calc_new_stonyhurst_lats(\n",
    "    B0=all_ars_df[\"CRLT_OBS\"],\n",
    "    Theta=all_ars_df[\"CRVAL2\"],\n",
    "    Phi=all_ars_df[\"CRVAL1\"] - all_ars_df[\"CRLN_OBS\"]\n",
    ")\n",
    "all_ars_df[\"new_Phi\"] = calc_new_stonyhurst_longs(\n",
    "    B0=all_ars_df[\"CRLT_OBS\"],\n",
    "    Theta=all_ars_df[\"CRVAL2\"],\n",
    "    Phi=all_ars_df[\"CRVAL1\"] - all_ars_df[\"CRLN_OBS\"]\n",
    ")\n",
    "all_ars_df[\"HC_ANGLE_right2\"] = calc_heliocentric_angles(\n",
    "    B0=0, Theta=all_ars_df[\"new_Theta\"], Phi=all_ars_df[\"new_Phi\"]\n",
    ")\n",
    "all_ars_df[\"right2_equals_right\"] = np.isclose(\n",
    "    all_ars_df[\"HC_ANGLE_right\"],\n",
    "    all_ars_df[\"HC_ANGLE_right2\"],\n",
    "    rtol=0,\n",
    "    atol=1e-11,\n",
    "    equal_nan=True\n",
    ")\n",
    "\n",
    "assert all_ars_df[\"right2_equals_right\"].all()"
   ]
  }
 ],
 "metadata": {
  "kernelspec": {
   "display_name": "Python 3",
   "language": "python",
   "name": "python3"
  },
  "language_info": {
   "codemirror_mode": {
    "name": "ipython",
    "version": 3
   },
   "file_extension": ".py",
   "mimetype": "text/x-python",
   "name": "python",
   "nbconvert_exporter": "python",
   "pygments_lexer": "ipython3",
   "version": "3.12.11"
  }
 },
 "nbformat": 4,
 "nbformat_minor": 5
}
