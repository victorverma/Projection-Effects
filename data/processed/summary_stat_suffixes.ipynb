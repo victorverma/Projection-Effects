{
 "cells": [
  {
   "cell_type": "code",
   "execution_count": 1,
   "id": "b84a7e28",
   "metadata": {},
   "outputs": [],
   "source": [
    "import numpy as np\n",
    "import pandas as pd"
   ]
  },
  {
   "cell_type": "markdown",
   "id": "f25d5d11",
   "metadata": {},
   "source": [
    "In [the paper by Goodwin et al.](https://dx.doi.org/10.3847/1538-4357/adb4f6),\n",
    "the features in the training and test sets were drawn from the lists of features\n",
    "in the `Specs` and `CORR_Specs` columns of the files matching the pattern\n",
    "`Partition[1-5]Improvements.csv`. The features were summary statistics; as shown\n",
    "below, the name of a feature contains a suffix indicating what kind of summary\n",
    "statistic was used to compute the feature. In this notebook, we obtain all the\n",
    "suffixes, which are needed in `data/processed/summarize_full_df.py`."
   ]
  },
  {
   "cell_type": "code",
   "execution_count": 2,
   "id": "920be504",
   "metadata": {},
   "outputs": [
    {
     "data": {
      "application/vnd.microsoft.datawrangler.viewer.v0+json": {
       "columns": [
        {
         "name": "index",
         "rawType": "int64",
         "type": "integer"
        },
        {
         "name": "Specs",
         "rawType": "object",
         "type": "string"
        },
        {
         "name": "Score",
         "rawType": "float64",
         "type": "float"
        },
        {
         "name": "CORR_Specs",
         "rawType": "object",
         "type": "string"
        },
        {
         "name": "CORR_Score",
         "rawType": "float64",
         "type": "float"
        },
        {
         "name": "IMP",
         "rawType": "float64",
         "type": "float"
        },
        {
         "name": "Best_Score",
         "rawType": "float64",
         "type": "float"
        }
       ],
       "ref": "6528ef07-46d5-46db-9494-5869f2bed519",
       "rows": [
        [
         "0",
         "ABSNJZH_max",
         "18327.77435304279",
         "ABSNJZH_CORRECTED_max",
         "17591.46539502178",
         "-4.017448839328209",
         "18327.77435304279"
        ],
        [
         "1",
         "ABSNJZH_last_value",
         "18049.45690311166",
         "ABSNJZH_CORRECTED_last_value",
         "17286.115323024165",
         "-4.229166474011173",
         "18049.45690311166"
        ],
        [
         "2",
         "SAVNCPP_max",
         "16920.76064300622",
         "SAVNCPP_CORRECTED_max",
         "17220.596348152583",
         "1.7719989749414382",
         "17220.596348152583"
        ],
        [
         "3",
         "SAVNCPP_last_value",
         "16592.88396849951",
         "SAVNCPP_CORRECTED_last_value",
         "16775.566489693498",
         "1.100969075302385",
         "16775.566489693498"
        ],
        [
         "4",
         "ABSNJZH_mean",
         "16655.129744156817",
         "ABSNJZH_CORRECTED_mean",
         "15832.259689664406",
         "-4.940640314021577",
         "16655.129744156817"
        ]
       ],
       "shape": {
        "columns": 6,
        "rows": 5
       }
      },
      "text/html": [
       "<div>\n",
       "<style scoped>\n",
       "    .dataframe tbody tr th:only-of-type {\n",
       "        vertical-align: middle;\n",
       "    }\n",
       "\n",
       "    .dataframe tbody tr th {\n",
       "        vertical-align: top;\n",
       "    }\n",
       "\n",
       "    .dataframe thead th {\n",
       "        text-align: right;\n",
       "    }\n",
       "</style>\n",
       "<table border=\"1\" class=\"dataframe\">\n",
       "  <thead>\n",
       "    <tr style=\"text-align: right;\">\n",
       "      <th></th>\n",
       "      <th>Specs</th>\n",
       "      <th>Score</th>\n",
       "      <th>CORR_Specs</th>\n",
       "      <th>CORR_Score</th>\n",
       "      <th>IMP</th>\n",
       "      <th>Best_Score</th>\n",
       "    </tr>\n",
       "  </thead>\n",
       "  <tbody>\n",
       "    <tr>\n",
       "      <th>0</th>\n",
       "      <td>ABSNJZH_max</td>\n",
       "      <td>18327.774353</td>\n",
       "      <td>ABSNJZH_CORRECTED_max</td>\n",
       "      <td>17591.465395</td>\n",
       "      <td>-4.017449</td>\n",
       "      <td>18327.774353</td>\n",
       "    </tr>\n",
       "    <tr>\n",
       "      <th>1</th>\n",
       "      <td>ABSNJZH_last_value</td>\n",
       "      <td>18049.456903</td>\n",
       "      <td>ABSNJZH_CORRECTED_last_value</td>\n",
       "      <td>17286.115323</td>\n",
       "      <td>-4.229166</td>\n",
       "      <td>18049.456903</td>\n",
       "    </tr>\n",
       "    <tr>\n",
       "      <th>2</th>\n",
       "      <td>SAVNCPP_max</td>\n",
       "      <td>16920.760643</td>\n",
       "      <td>SAVNCPP_CORRECTED_max</td>\n",
       "      <td>17220.596348</td>\n",
       "      <td>1.771999</td>\n",
       "      <td>17220.596348</td>\n",
       "    </tr>\n",
       "    <tr>\n",
       "      <th>3</th>\n",
       "      <td>SAVNCPP_last_value</td>\n",
       "      <td>16592.883968</td>\n",
       "      <td>SAVNCPP_CORRECTED_last_value</td>\n",
       "      <td>16775.566490</td>\n",
       "      <td>1.100969</td>\n",
       "      <td>16775.566490</td>\n",
       "    </tr>\n",
       "    <tr>\n",
       "      <th>4</th>\n",
       "      <td>ABSNJZH_mean</td>\n",
       "      <td>16655.129744</td>\n",
       "      <td>ABSNJZH_CORRECTED_mean</td>\n",
       "      <td>15832.259690</td>\n",
       "      <td>-4.940640</td>\n",
       "      <td>16655.129744</td>\n",
       "    </tr>\n",
       "  </tbody>\n",
       "</table>\n",
       "</div>"
      ],
      "text/plain": [
       "                Specs         Score                    CORR_Specs  \\\n",
       "0         ABSNJZH_max  18327.774353         ABSNJZH_CORRECTED_max   \n",
       "1  ABSNJZH_last_value  18049.456903  ABSNJZH_CORRECTED_last_value   \n",
       "2         SAVNCPP_max  16920.760643         SAVNCPP_CORRECTED_max   \n",
       "3  SAVNCPP_last_value  16592.883968  SAVNCPP_CORRECTED_last_value   \n",
       "4        ABSNJZH_mean  16655.129744        ABSNJZH_CORRECTED_mean   \n",
       "\n",
       "     CORR_Score       IMP    Best_Score  \n",
       "0  17591.465395 -4.017449  18327.774353  \n",
       "1  17286.115323 -4.229166  18049.456903  \n",
       "2  17220.596348  1.771999  17220.596348  \n",
       "3  16775.566490  1.100969  16775.566490  \n",
       "4  15832.259690 -4.940640  16655.129744  "
      ]
     },
     "execution_count": 2,
     "metadata": {},
     "output_type": "execute_result"
    }
   ],
   "source": [
    "pd.read_csv(\"../../Partition1Improvements.csv\").head()"
   ]
  },
  {
   "cell_type": "markdown",
   "id": "dd3f2b02",
   "metadata": {},
   "source": [
    "For each file matching the pattern given above, we create an array with the\n",
    "suffixes in the file."
   ]
  },
  {
   "cell_type": "code",
   "execution_count": 3,
   "id": "906bfc2a",
   "metadata": {},
   "outputs": [],
   "source": [
    "all_partition_names = []\n",
    "for i in range(1, 6):\n",
    "    improvements = pd.read_csv(f\"../../Partition{i}Improvements.csv\")\n",
    "    partition_names = (\n",
    "        improvements[\"Specs\"]\n",
    "        .str.replace(\"^(R_VALUE_|[A-Z0-9]+_)\", \"\", regex=True)\n",
    "        .unique()\n",
    "    )\n",
    "    partition_names.sort()\n",
    "    all_partition_names.append(partition_names)"
   ]
  },
  {
   "cell_type": "markdown",
   "id": "cae65e47",
   "metadata": {},
   "source": [
    "As expected, the files have the same set of suffixes."
   ]
  },
  {
   "cell_type": "code",
   "execution_count": 4,
   "id": "de27bde1",
   "metadata": {},
   "outputs": [],
   "source": [
    "for i in range(1, 5):\n",
    "    assert np.array_equal(all_partition_names[0], all_partition_names[i])"
   ]
  },
  {
   "cell_type": "markdown",
   "id": "f1e7ab6c",
   "metadata": {},
   "source": [
    "The suffixes in `data/processed/summarize_full_df.py` were copied from here."
   ]
  },
  {
   "cell_type": "code",
   "execution_count": 5,
   "id": "e058bf6d",
   "metadata": {},
   "outputs": [
    {
     "data": {
      "text/plain": [
       "array(['gderivative_mean', 'gderivative_stddev', 'kurtosis', 'last_value',\n",
       "       'max', 'mean', 'median', 'min', 'skewness', 'stddev', 'var'],\n",
       "      dtype=object)"
      ]
     },
     "execution_count": 5,
     "metadata": {},
     "output_type": "execute_result"
    }
   ],
   "source": [
    "all_partition_names[0]"
   ]
  }
 ],
 "metadata": {
  "kernelspec": {
   "display_name": "Python 3",
   "language": "python",
   "name": "python3"
  },
  "language_info": {
   "codemirror_mode": {
    "name": "ipython",
    "version": 3
   },
   "file_extension": ".py",
   "mimetype": "text/x-python",
   "name": "python",
   "nbconvert_exporter": "python",
   "pygments_lexer": "ipython3",
   "version": "3.12.11"
  }
 },
 "nbformat": 4,
 "nbformat_minor": 5
}
